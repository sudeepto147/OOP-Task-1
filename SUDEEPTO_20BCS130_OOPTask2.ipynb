{
  "nbformat": 4,
  "nbformat_minor": 0,
  "metadata": {
    "colab": {
      "name": " SUDEEPTO-20BCS130-OOPTask2.ipynb",
      "provenance": [],
      "collapsed_sections": [],
      "authorship_tag": "ABX9TyOl5ZucbP5Hjjt18TteaJaH",
      "include_colab_link": true
    },
    "kernelspec": {
      "name": "python3",
      "display_name": "Python 3"
    },
    "language_info": {
      "name": "python"
    }
  },
  "cells": [
    {
      "cell_type": "markdown",
      "metadata": {
        "id": "view-in-github",
        "colab_type": "text"
      },
      "source": [
        "<a href=\"https://colab.research.google.com/github/sudeepto147/OOP-Tasks/blob/main/SUDEEPTO_20BCS130_OOPTask2.ipynb\" target=\"_parent\"><img src=\"https://colab.research.google.com/assets/colab-badge.svg\" alt=\"Open In Colab\"/></a>"
      ]
    },
    {
      "cell_type": "code",
      "metadata": {
        "colab": {
          "base_uri": "https://localhost:8080/"
        },
        "id": "m6mlXHf4g7B2",
        "outputId": "d08dacc0-1e3c-4518-c14b-c979351591f6"
      },
      "source": [
        "import math as mt\n",
        "class circle():\n",
        "    def __init__(self, radius):\n",
        "        self.radius = radius\n",
        "\n",
        "    def area(self):\n",
        "        return (mt.pi)*(self.radius)*(self.radius)\n",
        "    \n",
        "    def perimeter(self):\n",
        "        return 2*(mt.pi)*(self.radius)\n",
        "\n",
        "c1 = circle(3)\n",
        "print(c1.area())\n",
        "print(c1.perimeter())\n",
        "c2 = circle(5)\n",
        "print(c2.area())\n",
        "print(c2.perimeter())\n",
        "\n"
      ],
      "execution_count": null,
      "outputs": [
        {
          "output_type": "stream",
          "name": "stdout",
          "text": [
            "28.274333882308138\n",
            "18.84955592153876\n",
            "78.53981633974483\n",
            "31.41592653589793\n"
          ]
        }
      ]
    },
    {
      "cell_type": "code",
      "metadata": {
        "id": "n3z2jzhtt_qu",
        "colab": {
          "base_uri": "https://localhost:8080/"
        },
        "outputId": "83b168a3-5871-48bb-ae97-fd0ef736a3c1"
      },
      "source": [
        "class faculty:\n",
        "\n",
        "  def __init__(self, name, emp_ID, branch, salary):\n",
        "    self.name=name\n",
        "    self.emp_ID=emp_ID\n",
        "    self.branch=branch\n",
        "    self.salary=salary\n",
        "\n",
        "fac1 = faculty('faculty1', '20bcs001', 'cse', 100000)\n",
        "fac2 = faculty('faculty2', '20bds002', 'dsai', 80000)\n",
        "fac3 = faculty('faculty3', '20bec003', 'ece', 90000)\n",
        "fac4 = faculty('faculty4', '20bcs004', 'cse', 120000)\n",
        "fac5 = faculty('faculty5', '20bec005', 'ece', 95000)\n",
        "\n",
        "def display():\n",
        "  l1=[fac1, fac2, fac3, fac4, fac5]\n",
        "  for x in l1:\n",
        "    print(\"\\n\")\n",
        "    print(x.__dict__)\n",
        "\n",
        "display()    \n",
        "\n",
        "      "
      ],
      "execution_count": null,
      "outputs": [
        {
          "output_type": "stream",
          "name": "stdout",
          "text": [
            "\n",
            "\n",
            "{'name': 'faculty1', 'emp_ID': '20bcs001', 'branch': 'cse', 'salary': 100000}\n",
            "\n",
            "\n",
            "{'name': 'faculty2', 'emp_ID': '20bds002', 'branch': 'dsai', 'salary': 80000}\n",
            "\n",
            "\n",
            "{'name': 'faculty3', 'emp_ID': '20bec003', 'branch': 'ece', 'salary': 90000}\n",
            "\n",
            "\n",
            "{'name': 'faculty4', 'emp_ID': '20bcs004', 'branch': 'cse', 'salary': 120000}\n",
            "\n",
            "\n",
            "{'name': 'faculty5', 'emp_ID': '20bec005', 'branch': 'ece', 'salary': 95000}\n"
          ]
        }
      ]
    },
    {
      "cell_type": "code",
      "metadata": {
        "colab": {
          "base_uri": "https://localhost:8080/"
        },
        "id": "Sn5JILhWlfLc",
        "outputId": "87476693-9cac-4ca6-ebd8-246649db0ac0"
      },
      "source": [
        "class account:\n",
        "\n",
        "  def __init__(self, amount=0, account_no=\"XXXXX100006\", account_holder_name=\"Sudeepto\"):\n",
        "    self.bank_balance=0\n",
        "    self.account_no=account_no\n",
        "    self.account_holder_name=account_holder_name\n",
        "    self.amount=amount\n",
        "\n",
        "  def deposit(self):\n",
        "    amount=float(input(\"how much you want to deposit?: \"))\n",
        "    self.bank_balance += amount\n",
        "    print(\"\\n amount you have deposited is: \",amount)\n",
        " \n",
        "  def withdraw(self):\n",
        "    amount = float(input(\"how much you have to withdraw?: \"))\n",
        "    if self.bank_balance>=amount:\n",
        "      self.bank_balance-=amount\n",
        "      print(\"\\n the amount you have withdrawn is: \", amount)\n",
        "    else:\n",
        "      print(\"\\n low bank balance\")\n",
        " \n",
        "  def check_balance(self):\n",
        "    print(\"\\n your account balance is: \",self.bank_balance) \n",
        "\n",
        "  def account_details(self):\n",
        "    print(\"\\n\\nyour account number is: \", self.account_no)\n",
        "    print(\"your account holder name is: \", self.account_holder_name)\n",
        "    print(\"your account balance is: \", self.bank_balance)\n",
        "\n",
        "acc1 = account()    \n",
        "acc1.deposit()\n",
        "acc1.withdraw()\n",
        "acc1.check_balance()\n",
        "acc1.account_details()\n",
        "    "
      ],
      "execution_count": null,
      "outputs": [
        {
          "output_type": "stream",
          "name": "stdout",
          "text": [
            "how much you want to deposit?: 150000\n",
            "\n",
            " amount you have deposited is:  150000.0\n",
            "how much you have to withdraw?: 28999\n",
            "\n",
            " the amount you have withdrawn is:  28999.0\n",
            "\n",
            " your account balance is:  121001.0\n",
            "\n",
            "\n",
            "your account number is:  XXXXX100006\n",
            "your account holder name is:  Sudeepto\n",
            "your account balance is:  121001.0\n"
          ]
        }
      ]
    },
    {
      "cell_type": "code",
      "metadata": {
        "colab": {
          "base_uri": "https://localhost:8080/"
        },
        "id": "vSaQ5Gzy9XEW",
        "outputId": "042c3f8f-a763-4165-e81f-181256325221"
      },
      "source": [
        "class students:\n",
        "    \n",
        "    def __init__(self, name):\n",
        "        self.name = name\n",
        "        self.marks = []\n",
        "        \n",
        "    def Marks(self):\n",
        "        for i in range(3):\n",
        "            m = int(input(\"Enter the marks of %s in %d subject: \"%(self.name, i+1)))\n",
        "            self.marks.append(m)\n",
        "            \n",
        "    def display_marks(self):\n",
        "      usn = (input(\"please enter your USN: \"))\n",
        "      print (self.name, \"got \", self.marks)\n",
        "      print(\"%s's USN is %s\"%(self.name,usn))\n",
        "             \n",
        "name = input(\"Enter the name of Student:\")\n",
        "s1 = students(name)\n",
        "s1.Marks()\n",
        "s1.display_marks()\n",
        "print (\"\\n\")\n",
        "name = input(\"Enter the name of Student:\")\n",
        "s2 = students(name)\n",
        "s2.Marks()\n",
        "s2.display_marks()\n"
      ],
      "execution_count": null,
      "outputs": [
        {
          "output_type": "stream",
          "name": "stdout",
          "text": [
            "Enter the name of Student:sudeepto\n",
            "Enter the marks of sudeepto in 1 subject: 12\n",
            "Enter the marks of sudeepto in 2 subject: 23\n",
            "Enter the marks of sudeepto in 3 subject: 34\n",
            "please enter your USN: 20bcs130\n",
            "sudeepto got  [12, 23, 34]\n",
            "sudeepto's USN is 20bcs130\n",
            "\n",
            "\n",
            "Enter the name of Student:mahesh\n",
            "Enter the marks of mahesh in 1 subject: 45\n",
            "Enter the marks of mahesh in 2 subject: 56\n",
            "Enter the marks of mahesh in 3 subject: 67\n",
            "please enter your USN: 20bec129\n",
            "mahesh got  [45, 56, 67]\n",
            "mahesh's USN is 20bec129\n"
          ]
        }
      ]
    },
    {
      "cell_type": "code",
      "metadata": {
        "colab": {
          "base_uri": "https://localhost:8080/"
        },
        "id": "VSEqtI_uAamR",
        "outputId": "6ea443c4-8680-4bf2-8a77-bd09b8a84f03"
      },
      "source": [
        "class patients:\n",
        "\n",
        "  def __init__(self):\n",
        "    self.name = input(\"enter patient's name: \")\n",
        "    self.date_admit = input(\"enter date of admit as dd/mm/yyyy: \")\n",
        "    no_of_symptoms = int(input(\"enter the number of symptoms: \"))\n",
        "    self.symptoms = []\n",
        "    for i in range(0, no_of_symptoms):\n",
        "      sym = input(\"enter the symptom: \")\n",
        "      self.symptoms.append(sym)\n",
        "    self.oxygen_level = int(input(\"enter the oxygen level in percentage: \"))\n",
        "    self.date_discharge = input(\"enter the date of discharge as dd/mm/yyyy: \")\n",
        "    \n",
        "\n",
        "  def pat_info(self):\n",
        "    print(\"\\n\\n\")\n",
        "    print(\"patient name is: \",self.name)\n",
        "    print(\"patient's date of admit is: \",self.date_admit)\n",
        "    print(\"patient's symptoms are: \",self.symptoms)\n",
        "    print(\"patient's oxygen level is: \",self.oxygen_level)\n",
        "    print(\"patient's date of discharge is: \",self.date_discharge)\n",
        "\n",
        "  def severity(self):\n",
        "    if self.oxygen_level < 90:\n",
        "      print(\"the person is in severe condition\")\n",
        "    else:\n",
        "      print(\"the person is not severe\")    \n",
        "\n",
        "c1=patients()\n",
        "c1.pat_info()\n",
        "c1.severity()\n",
        "\n",
        "c2=patients()\n",
        "c2.pat_info()\n",
        "c2.severity()\n"
      ],
      "execution_count": null,
      "outputs": [
        {
          "output_type": "stream",
          "name": "stdout",
          "text": [
            "enter patient's name: sudeepto\n",
            "enter date of admit as dd/mm/yyyy: 11/03/2001\n",
            "enter the number of symptoms: 3\n",
            "enter the symptom: cough\n",
            "enter the symptom: nausea\n",
            "enter the symptom: fever\n",
            "enter the oxygen level in percentage: 98\n",
            "enter the date of discharge as dd/mm/yyyy: 18/03/2001\n",
            "\n",
            "\n",
            "\n",
            "patient name is:  sudeepto\n",
            "patient's date of admit is:  11/03/2001\n",
            "patient's symptoms are:  ['cough', 'nausea', 'fever']\n",
            "patient's oxygen level is:  98\n",
            "patient's date of discharge is:  18/03/2001\n",
            "the person is not severe\n"
          ]
        }
      ]
    },
    {
      "cell_type": "code",
      "metadata": {
        "colab": {
          "base_uri": "https://localhost:8080/"
        },
        "id": "QRkZPCJ7FKcr",
        "outputId": "38a3e5cf-e73d-42ac-9b12-d25812f6849b"
      },
      "source": [
        "class student:\n",
        "\n",
        "  def __init__(self, name, age, roll_no):\n",
        "    self.name = name\n",
        "    self.age = age\n",
        "    self.roll_no = roll_no  \n",
        "\n",
        "student1 = student(\"rahul\", 21, 33)\n",
        "student2 = student(\"rohit\", 22, 74)  \n",
        "\n",
        "def compare():\n",
        "  if student1.age == student2.age:\n",
        "    print(\"the ages of two students are equal\")\n",
        "  else:\n",
        "    print(\"the ages are not equal\")\n",
        "\n",
        "compare()      \n"
      ],
      "execution_count": null,
      "outputs": [
        {
          "output_type": "stream",
          "name": "stdout",
          "text": [
            "the ages are not equal\n"
          ]
        }
      ]
    },
    {
      "cell_type": "code",
      "metadata": {
        "colab": {
          "base_uri": "https://localhost:8080/"
        },
        "id": "NsMHYDQKK2pp",
        "outputId": "a4c40bc3-5e14-4062-efb4-ea2dd9bd5b60"
      },
      "source": [
        "class student:\n",
        "\n",
        "  def __init__(self):\n",
        "    self.name = \"sudeepto\"\n",
        "    self.roll_no = \"20bcs130\"\n",
        "    self.sem = \"3rd\"\n",
        "    self.lp1 = self.laptop1()\n",
        "    self.lp2 = self.laptop2()\n",
        "\n",
        "  def display(self):\n",
        "    print(\"name of student is: \", self.name)\n",
        "    print(\"roll no. of student is: \", self.roll_no)\n",
        "    print(\"semester of student is: \", self.sem)\n",
        "\n",
        "  class laptop1:\n",
        "\n",
        "    def __init__(self):\n",
        "      self.cpu = \"intel\"\n",
        "      self.ram = \"16gb\"\n",
        "      self.hard_disk = \"1tb\"\n",
        "\n",
        "    def display_inner1(self):\n",
        "      print(\"chip used in cpu is: \", self.cpu)\n",
        "      print(\"ram capacity is: \", self.ram)\n",
        "      print(\"hard_disk capacity is: \", self.hard_disk)\n",
        " \n",
        "  class laptop2: \n",
        "\n",
        "    def __init__(self):\n",
        "      self.cpu = \"m1\"\n",
        "      self.ram = \"8gb\"\n",
        "      self.hard_disk = \"512gb\"\n",
        "\n",
        "    def display_inner2(self):\n",
        "      print(\"chip used in cpu is: \", self.cpu)\n",
        "      print(\"ram capacity is: \", self.ram)\n",
        "      print(\"hard_disk capacity is: \", self.hard_disk)      \n",
        "\n",
        "stud1 = student()\n",
        "stud1.display() \n",
        "\n",
        "print(\"\\n\\n\")\n",
        "\n",
        "lap1 = stud1.lp1\n",
        "lap1.display_inner1()\n",
        "\n",
        "print(\"\\n\\n\")\n",
        "\n",
        "lap2 = stud1.lp2\n",
        "lap2.display_inner2()\n",
        "         "
      ],
      "execution_count": 1,
      "outputs": [
        {
          "output_type": "stream",
          "name": "stdout",
          "text": [
            "name of student is:  sudeepto\n",
            "roll no. of student is:  20bcs130\n",
            "semester of student is:  3rd\n",
            "\n",
            "\n",
            "\n",
            "chip used in cpu is:  intel\n",
            "ram capacity is:  16gb\n",
            "hard_disk capacity is:  1tb\n",
            "\n",
            "\n",
            "\n",
            "chip used in cpu is:  m1\n",
            "ram capacity is:  8gb\n",
            "hard_disk capacity is:  512gb\n"
          ]
        }
      ]
    }
  ]
}