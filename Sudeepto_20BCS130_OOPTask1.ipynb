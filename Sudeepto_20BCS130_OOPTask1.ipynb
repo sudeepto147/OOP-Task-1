{
  "nbformat": 4,
  "nbformat_minor": 0,
  "metadata": {
    "colab": {
      "name": "Sudeepto-20BCS130-OOPTask1.ipynb",
      "provenance": [],
      "authorship_tag": "ABX9TyNrLVEu4WHJz5MsNo5Aj4Ra",
      "include_colab_link": true
    },
    "kernelspec": {
      "name": "python3",
      "display_name": "Python 3"
    },
    "language_info": {
      "name": "python"
    }
  },
  "cells": [
    {
      "cell_type": "markdown",
      "metadata": {
        "id": "view-in-github",
        "colab_type": "text"
      },
      "source": [
        "<a href=\"https://colab.research.google.com/github/sudeepto147/OOP-Task-1/blob/main/Sudeepto_20BCS130_OOPTask1.ipynb\" target=\"_parent\"><img src=\"https://colab.research.google.com/assets/colab-badge.svg\" alt=\"Open In Colab\"/></a>"
      ]
    },
    {
      "cell_type": "code",
      "metadata": {
        "colab": {
          "base_uri": "https://localhost:8080/"
        },
        "id": "ZHhfqF-OnSWZ",
        "outputId": "96692beb-903a-4cb3-900b-44afa267821c"
      },
      "source": [
        "# problem 1\n",
        "def is_leap_year(year):\n",
        "    val = False\n",
        "    \n",
        "    if year % 400 == 0:\n",
        "        val = True\n",
        "    elif year % 100 == 0:\n",
        "        val = False\n",
        "    elif year % 4 == 0:\n",
        "        val = True\n",
        "    \n",
        "    return val\n",
        "    \n",
        "year = int(input())\n",
        "is_leap_year(year)"
      ],
      "execution_count": null,
      "outputs": [
        {
          "name": "stdout",
          "output_type": "stream",
          "text": [
            "345680\n"
          ]
        },
        {
          "output_type": "execute_result",
          "data": {
            "text/plain": [
              "True"
            ]
          },
          "metadata": {},
          "execution_count": 22
        }
      ]
    },
    {
      "cell_type": "code",
      "metadata": {
        "colab": {
          "base_uri": "https://localhost:8080/"
        },
        "id": "XVkupYijroXY",
        "outputId": "33cc27cf-cb33-487a-c65c-e95a37d386d4"
      },
      "source": [
        "# problem 2\n",
        "n = int(input())\n",
        "if n % 2 == 1:\n",
        "    print(\"Weird\")\n",
        "elif n % 2 == 0 and 2 <= n <= 5:\n",
        "    print(\"Not Weird\")\n",
        "elif n % 2 == 0 and 6 <= n <= 20:\n",
        "    print(\"Weird\")\n",
        "else:\n",
        "    print(\"Not Weird\")"
      ],
      "execution_count": null,
      "outputs": [
        {
          "output_type": "stream",
          "name": "stdout",
          "text": [
            "234\n",
            "Not Weird\n"
          ]
        }
      ]
    },
    {
      "cell_type": "code",
      "metadata": {
        "colab": {
          "base_uri": "https://localhost:8080/"
        },
        "id": "qJzRpqxQDBVi",
        "outputId": "95a29157-79de-483e-b3e9-269ec2be29f8"
      },
      "source": [
        "# problem 3\n",
        "Guest_List=[]\n",
        "x=int(input(\"enter the no of guests: \"))\n",
        "\n",
        "for i in range(0,x):\n",
        "  y=input(\"enter guest name: \")\n",
        "  Guest_List.append(y)\n",
        "\n",
        "Guest_Name=input(\"enter guest name to search for: \")\n",
        "\n",
        "def late_guest(Guest_List , Guest_Name) : \n",
        "  number_of_guests = len(Guest_List) \n",
        "  Half_number_of_Guests = (number_of_guests // 2) + ( 0 if number_of_guests % 2 == 0 else 1)\n",
        "  Guest_pos = Guest_List.index(Guest_Name) + 1\n",
        "\n",
        "  if Guest_pos >= Half_number_of_Guests and Guest_pos < number_of_guests :\n",
        "      print(\"Guest \",Guest_Name, \" is Fashionably Late .\")\n",
        "  else :\n",
        "      print(\"Guest \",Guest_Name, \" is Not Fashionably Late .\")\n",
        "\n",
        "late_guest(Guest_List,Guest_Name)      "
      ],
      "execution_count": null,
      "outputs": [
        {
          "output_type": "stream",
          "name": "stdout",
          "text": [
            "enter the no of guests: 7\n",
            "enter guest name: arham\n",
            "enter guest name: sohan\n",
            "enter guest name: chinu\n",
            "enter guest name: ramu\n",
            "enter guest name: chetan\n",
            "enter guest name: sagarika\n",
            "enter guest name: rohan\n",
            "enter guest name to search for: ramu\n",
            "Guest  ramu  is Fashionably Late .\n"
          ]
        }
      ]
    },
    {
      "cell_type": "code",
      "metadata": {
        "colab": {
          "base_uri": "https://localhost:8080/"
        },
        "id": "KIUEFtn5FThH",
        "outputId": "e786da74-279e-45a3-c0b1-6591cb53d89c"
      },
      "source": [
        "# problem 4\n",
        "def word_search(documents, keyword):\n",
        "    indices_of_searched_words = [] \n",
        "    \n",
        "    for x, articles in enumerate(documents):\n",
        "        splitted_sentence_to_words = articles.split()\n",
        "        removed_punctuation = [y.rstrip('.,').lower() for y in splitted_sentence_to_words]\n",
        "\n",
        "        if keyword.lower() in removed_punctuation:\n",
        "            indices_of_searched_words.append(x)\n",
        "\n",
        "    return indices_of_searched_words\n",
        "\n",
        "\n",
        "doc_list = [\"The Learn Python Challenge Rohit.\", \"They bought a car\", \"bangalore\"]\n",
        "word_search(doc_list, 'BaNgAlOrE')\n"
      ],
      "execution_count": 9,
      "outputs": [
        {
          "output_type": "execute_result",
          "data": {
            "text/plain": [
              "[2]"
            ]
          },
          "metadata": {},
          "execution_count": 9
        }
      ]
    },
    {
      "cell_type": "code",
      "metadata": {
        "colab": {
          "base_uri": "https://localhost:8080/"
        },
        "id": "590lK_t37G-E",
        "outputId": "8b829714-91ff-4ffb-f4d7-8fd2d71ebef9"
      },
      "source": [
        "# problem 5\n",
        "BP = int(input(\"enter basic pay(BP): \"))\n",
        "def gross_pay(BP):\n",
        "  DA = 0.4*BP\n",
        "  SRA = 0.2*BP\n",
        "  GP = BP+DA+SRA\n",
        "  print(\"your GP is: \",GP)\n",
        "\n",
        "gross_pay(BP)  "
      ],
      "execution_count": null,
      "outputs": [
        {
          "output_type": "stream",
          "name": "stdout",
          "text": [
            "enter basic pay(BP): 1000\n",
            "your GP is:  1600.0\n"
          ]
        }
      ]
    }
  ]
}