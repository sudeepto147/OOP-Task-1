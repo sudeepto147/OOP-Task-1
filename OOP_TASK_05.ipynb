{
  "nbformat": 4,
  "nbformat_minor": 0,
  "metadata": {
    "colab": {
      "name": "OOP TASK-05.ipynb",
      "provenance": [],
      "authorship_tag": "ABX9TyMUGgp1A4Uzvk7Mdcx/1J+B",
      "include_colab_link": true
    },
    "kernelspec": {
      "name": "python3",
      "display_name": "Python 3"
    },
    "language_info": {
      "name": "python"
    }
  },
  "cells": [
    {
      "cell_type": "markdown",
      "metadata": {
        "id": "view-in-github",
        "colab_type": "text"
      },
      "source": [
        "<a href=\"https://colab.research.google.com/github/sudeepto147/OOP-Tasks/blob/main/OOP_TASK_05.ipynb\" target=\"_parent\"><img src=\"https://colab.research.google.com/assets/colab-badge.svg\" alt=\"Open In Colab\"/></a>"
      ]
    },
    {
      "cell_type": "code",
      "metadata": {
        "colab": {
          "base_uri": "https://localhost:8080/"
        },
        "id": "R6u6PPgi4XeW",
        "outputId": "0670b8e4-b188-4710-c46a-f21185cf5f2f"
      },
      "source": [
        "import math as mt\n",
        "\n",
        "class Shape:\n",
        "\n",
        "  def __init__(self, shape):\n",
        "    self.shape = shape\n",
        "\n",
        "  def area(self):\n",
        "    pass  \n",
        "\n",
        "class circle(Shape):\n",
        "\n",
        "  def __init__(self, radius):\n",
        "    self.radius = radius\n",
        "\n",
        "  def area(self):\n",
        "    print((mt.pi)*(self.radius)**2)\n",
        "\n",
        "class square(Shape):\n",
        "  \n",
        "  def __init__(self, side):\n",
        "    self.side = side\n",
        "\n",
        "  def area(self):\n",
        "    print((self.side)**2)\n",
        "\n",
        "class rectangle(Shape):\n",
        "\n",
        "  def __init__(self, length, breadth):\n",
        "    self.length = length\n",
        "    self.breadth = breadth\n",
        "\n",
        "  def area(self):\n",
        "    print(self.length*self.breadth)\n",
        "\n",
        "shape1 = circle(2)\n",
        "shape1.area()  \n",
        "\n",
        "shape2 = square(4)\n",
        "shape2.area()\n",
        "\n",
        "shape3 = rectangle(12, 13)\n",
        "shape3.area()\n"
      ],
      "execution_count": null,
      "outputs": [
        {
          "output_type": "stream",
          "name": "stdout",
          "text": [
            "12.566370614359172\n",
            "16\n",
            "156\n"
          ]
        }
      ]
    },
    {
      "cell_type": "code",
      "metadata": {
        "colab": {
          "base_uri": "https://localhost:8080/"
        },
        "id": "sQs9GXdFE91l",
        "outputId": "225940c7-50eb-4edb-fa87-c00b619d82df"
      },
      "source": [
        "class Travel:\n",
        "\n",
        "  def __init__(self, travel):\n",
        "    self.travel = travel\n",
        "\n",
        "  def __number_of_passangers(self):\n",
        "    pass\n",
        "\n",
        "  def distance(self):\n",
        "    pass\n",
        "\n",
        "  def mode(self):\n",
        "    pass\n",
        "\n",
        "class train(Travel):\n",
        "\n",
        "  def __init__(self, total_passangers):\n",
        "    self.total_passangers = total_passangers\n",
        "\n",
        "  def cost_of_transport(self):\n",
        "    print(self.total_passangers*60)\n",
        "\n",
        "class bus(Travel):\n",
        "\n",
        "  def __init__(self, total_passangers):\n",
        "    self.total_passangers = total_passangers\n",
        "\n",
        "  def cost_of_transport(self):\n",
        "    print(self.total_passangers*100)\n",
        "\n",
        "mode1 = train(1056)\n",
        "mode1.cost_of_transport()\n",
        "\n",
        "mode2 = bus(60)\n",
        "mode2.cost_of_transport()"
      ],
      "execution_count": null,
      "outputs": [
        {
          "output_type": "stream",
          "name": "stdout",
          "text": [
            "63360\n",
            "6000\n"
          ]
        }
      ]
    },
    {
      "cell_type": "code",
      "metadata": {
        "colab": {
          "base_uri": "https://localhost:8080/"
        },
        "id": "W73sel-5Oq1S",
        "outputId": "f8a880a7-18cf-4f01-cb23-b08d50431b6c"
      },
      "source": [
        "class Car:\n",
        "\n",
        "  def __init__(self, model_no):\n",
        "    self.model_no = model_no\n",
        "\n",
        "  def print_model_no(self):\n",
        "    print(self.model_no)\n",
        "\n",
        "c1 = Car(\"model no. of c1 = a123\")\n",
        "c1.print_model_no()\n",
        "\n",
        "c2 = Car(\"model no. of c2 = b123\")\n",
        "c2.print_model_no()\n",
        "print(\"\\n\")\n",
        "\n",
        "var = c1\n",
        "c1 = c2\n",
        "c2 = var\n",
        "\n",
        "c1.print_model_no()\n",
        "c2.print_model_no()"
      ],
      "execution_count": null,
      "outputs": [
        {
          "output_type": "stream",
          "name": "stdout",
          "text": [
            "model no. of c1 = a123\n",
            "model no. of c2 = b123\n",
            "\n",
            "\n",
            "model no. of c2 = b123\n",
            "model no. of c1 = a123\n"
          ]
        }
      ]
    }
  ]
}