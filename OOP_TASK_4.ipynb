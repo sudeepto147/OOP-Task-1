{
  "nbformat": 4,
  "nbformat_minor": 0,
  "metadata": {
    "colab": {
      "name": "OOP-TASK-4.ipynb",
      "provenance": [],
      "collapsed_sections": [],
      "authorship_tag": "ABX9TyNVM7q5+jQx57jy0BVTVyqX",
      "include_colab_link": true
    },
    "kernelspec": {
      "name": "python3",
      "display_name": "Python 3"
    },
    "language_info": {
      "name": "python"
    }
  },
  "cells": [
    {
      "cell_type": "markdown",
      "metadata": {
        "id": "view-in-github",
        "colab_type": "text"
      },
      "source": [
        "<a href=\"https://colab.research.google.com/github/sudeepto147/OOP-Tasks/blob/main/OOP_TASK_4.ipynb\" target=\"_parent\"><img src=\"https://colab.research.google.com/assets/colab-badge.svg\" alt=\"Open In Colab\"/></a>"
      ]
    },
    {
      "cell_type": "code",
      "metadata": {
        "colab": {
          "base_uri": "https://localhost:8080/"
        },
        "id": "URsj7B4cvAmJ",
        "outputId": "dd161856-71dd-4ba2-87c3-7aeb5a49d779"
      },
      "source": [
        "# problem 1\n",
        "\n",
        "class Node:\n",
        "   def __init__(self, data):\n",
        "      self.data = data\n",
        "      self.next = 0\n",
        " \n",
        "class Stack:\n",
        "    \n",
        "   def __init__(self):\n",
        "      self.head = Node(\"head\")\n",
        "      self.size = 0\n",
        " \n",
        "   def __str__(self):\n",
        "      cur = self.head.next\n",
        "      out = \"\"\n",
        "      while cur:\n",
        "         out += str(cur.data) + \"-\"\n",
        "         cur = cur.next\n",
        "      return out[:-3]  \n",
        " \n",
        "   def getSize(self):\n",
        "      return self.size\n",
        "    \n",
        "   def isEmpty(self):\n",
        "      return self.size == 0\n",
        "    \n",
        " \n",
        "   def push(self, data):\n",
        "      node = Node(data)\n",
        "      node.next = self.head.next\n",
        "      self.head.next = node\n",
        "      self.size += 1\n",
        "      \n",
        "   def pop(self):\n",
        "      if self.isEmpty():\n",
        "         raise Exception(\"Popping from an empty stack\")\n",
        "      remove = self.head.next\n",
        "      self.head.next = self.head.next.next\n",
        "      self.size -= 1\n",
        "      return remove.data\n",
        "\n",
        "    def __del__(self):\n",
        "      print(\"destructor called\")  \n",
        " \n",
        "if __name__ == \"__main__\":\n",
        "   stack = Stack()\n",
        "   for i in range(1, 34):\n",
        "      stack.push(i)\n",
        "   print(f\"Stack: {stack}\")\n",
        " \n",
        "   for _ in range(1, 13):\n",
        "      remove = stack.pop()\n",
        "      print(f\"Pop: {remove}\")\n",
        "   print(f\"Stack: {stack}\")\n",
        "\n",
        "del stack   "
      ],
      "execution_count": 16,
      "outputs": [
        {
          "output_type": "stream",
          "name": "stdout",
          "text": [
            "Stack: 33-32-31-30-29-28-27-26-25-24-23-22-21-20-19-18-17-16-15-14-13-12-11-10-9-8-7-6-5-4-3-2\n",
            "Pop: 33\n",
            "Pop: 32\n",
            "Pop: 31\n",
            "Pop: 30\n",
            "Pop: 29\n",
            "Pop: 28\n",
            "Pop: 27\n",
            "Pop: 26\n",
            "Pop: 25\n",
            "Pop: 24\n",
            "Pop: 23\n",
            "Pop: 22\n",
            "Stack: 21-20-19-18-17-16-15-14-13-12-11-10-9-8-7-6-5-4-3-2\n"
          ]
        }
      ]
    },
    {
      "cell_type": "code",
      "metadata": {
        "colab": {
          "base_uri": "https://localhost:8080/"
        },
        "id": "1g0ITcf8vNt3",
        "outputId": "095fd992-b87d-4615-d02e-33875e08b62d"
      },
      "source": [
        "# problem 2\n",
        "\n",
        "# using default constructor\n",
        "\n",
        "class Area:\n",
        "\n",
        "  def __init__(self):\n",
        "    self.length = 30\n",
        "    self.breadth = 25\n",
        "\n",
        "  def area(self):\n",
        "    print(\"area = \", self.length*self.breadth)\n",
        "\n",
        "obj = Area()\n",
        "obj.area()  \n"
      ],
      "execution_count": 1,
      "outputs": [
        {
          "output_type": "stream",
          "name": "stdout",
          "text": [
            "area =  750\n"
          ]
        }
      ]
    },
    {
      "cell_type": "code",
      "metadata": {
        "colab": {
          "base_uri": "https://localhost:8080/"
        },
        "id": "Iu_ZzmdvwZYc",
        "outputId": "b62010b9-aae1-460c-a14d-3ccdf47d9d76"
      },
      "source": [
        "# using parameterised constructor\n",
        "\n",
        "class Area:\n",
        "\n",
        "  def __init__(self, length, breadth):\n",
        "    self.length = length\n",
        "    self.breadth = breadth\n",
        "\n",
        "  def area(self):\n",
        "    print(\"area = \", self.length*self.breadth)\n",
        "\n",
        "obj = Area(30, 25)\n",
        "obj.area() \n",
        "     "
      ],
      "execution_count": 2,
      "outputs": [
        {
          "output_type": "stream",
          "name": "stdout",
          "text": [
            "area =  750\n"
          ]
        }
      ]
    },
    {
      "cell_type": "code",
      "metadata": {
        "colab": {
          "base_uri": "https://localhost:8080/"
        },
        "id": "Q6og26sPw-eJ",
        "outputId": "c3a17c5f-bc21-42f1-cd29-afdcee22f213"
      },
      "source": [
        "# problem 3\n",
        "\n",
        "class Queue:\n",
        "\tdef __init__(self):\n",
        "\t  self.items = []\n",
        "\t\n",
        "\tdef isEmpty(self):\n",
        "\t  return self.items == []\n",
        "\t\n",
        "\tdef enqueue(self, item):\n",
        "\t  self.items.insert(0,item)\n",
        "\t\n",
        "\tdef dequeue(self):\n",
        "\t  return self.items.pop()\n",
        "\t\n",
        "\tdef size(self):\n",
        "\t  return len(self.items)\n",
        "   \n",
        "  def __del__(self):\n",
        "    print('Destructor called')\n",
        "         \n",
        "\n",
        "\t\n",
        "q=Queue()\n",
        "q.enqueue(4)\n",
        "q.enqueue('fruit')\n",
        "q.enqueue(78)\n",
        "q.dequeue()\n",
        "q.enqueue('mango')\n",
        "q.enqueue('vegetable')\n",
        "q.enqueue(342)\n",
        "q.enqueue(42)\n",
        "q.enqueue(485)\n",
        "q.enqueue('sudeepto')\n",
        "q.dequeue()\n",
        "q.dequeue()\n",
        "print(q.size())\n",
        "del q"
      ],
      "execution_count": 13,
      "outputs": [
        {
          "output_type": "stream",
          "name": "stdout",
          "text": [
            "6\n"
          ]
        }
      ]
    }
  ]
}