{
  "nbformat": 4,
  "nbformat_minor": 0,
  "metadata": {
    "colab": {
      "name": "sudeepto-20bcs130-ooptask3",
      "provenance": [],
      "authorship_tag": "ABX9TyPrSAaWoO/InBcRxJsYldm/",
      "include_colab_link": true
    },
    "kernelspec": {
      "name": "python3",
      "display_name": "Python 3"
    },
    "language_info": {
      "name": "python"
    }
  },
  "cells": [
    {
      "cell_type": "markdown",
      "metadata": {
        "id": "view-in-github",
        "colab_type": "text"
      },
      "source": [
        "<a href=\"https://colab.research.google.com/github/sudeepto147/OOP-Tasks/blob/main/sudeepto_20bcs130_ooptask3.ipynb\" target=\"_parent\"><img src=\"https://colab.research.google.com/assets/colab-badge.svg\" alt=\"Open In Colab\"/></a>"
      ]
    },
    {
      "cell_type": "code",
      "metadata": {
        "colab": {
          "base_uri": "https://localhost:8080/"
        },
        "id": "3m_y9bSMlg0r",
        "outputId": "1278cd1f-2be3-4fce-d0e4-7f57ba7cd612"
      },
      "source": [
        "class student(object):\n",
        "\n",
        "  def __init__(self):\n",
        "    self.name = input(\"enter the name: \")\n",
        "    self.reg_no = input(\"enter registration number: \")\n",
        "    self.age = int(input(\"enter the age: \"))\n",
        "    self.gender = input(\"enter your gender. if you are male type M if female type F or type O: \")\n",
        "    self.branch = input(\"enter your branch: \")\n",
        "    self.sem = input(\"enter your semester: \")\n",
        "\n",
        "  def display(self):\n",
        "    print(\"\\n\\n\")\n",
        "    print(\"student's name is: \", self.name)\n",
        "    print(\"student's registration number is: \", self.reg_no)\n",
        "    print(\"student's age is: \", self.age)\n",
        "    print(\"student's gender is: \", self.gender)\n",
        "    print(\"student's branch is: \", self.branch)\n",
        "    print(\"student's semester is: \", self.sem)\n",
        "\n",
        "class student_result_info(student):\n",
        "\n",
        "  def __init__(self):\n",
        "    student.__init__(self)\n",
        "    self.total_marks = int(input(\"enter total marks of sudeepto \"))  \n",
        "    self.percentage = int(input(\"enter the percentage of sudeepto \"))\n",
        "    self.grade = input(\"enter the grade of sudeepto\")\n",
        "\n",
        "  def display_grade(self):\n",
        "    print(f\"{self.name}'s total marks: {self.total_marks}\")\n",
        "    print(f\"{self.name}'s percentage is: {self.percentage}\")\n",
        "    print(f\"{self.name}'s grade is: {self.grade}\") \n",
        "\n",
        "stud = student_result_info()\n",
        "stud.display()\n",
        "stud.display_grade()     "
      ],
      "execution_count": 14,
      "outputs": [
        {
          "output_type": "stream",
          "name": "stdout",
          "text": [
            "enter the name: sudeepto\n",
            "enter registration number: 20bcs130\n",
            "enter the age: 20\n",
            "enter your gender. if you are male type M if female type F or type O: m\n",
            "enter your branch: cse\n",
            "enter your semester: 3rd\n",
            "enter total marks of sudeepto 541\n",
            "enter the percentage of sudeepto 86\n",
            "enter the grade of sudeeptoa+\n",
            "\n",
            "\n",
            "\n",
            "student's name is:  sudeepto\n",
            "student's registration number is:  20bcs130\n",
            "student's age is:  20\n",
            "student's gender is:  m\n",
            "student's branch is:  cse\n",
            "student's semester is:  3rd\n",
            "sudeepto's total marks: 541\n",
            "sudeepto's percentage is: 86\n",
            "sudeepto's grade is: a+\n"
          ]
        }
      ]
    },
    {
      "cell_type": "code",
      "metadata": {
        "colab": {
          "base_uri": "https://localhost:8080/"
        },
        "id": "EDrQ4DZJyBGG",
        "outputId": "a8457168-e04f-4e57-aed9-8adb30e6805c"
      },
      "source": [
        "class pdf(object):\n",
        "\n",
        "  def __init__(self):\n",
        "    self.creater = \"sudeepto\"\n",
        "    self.description = \"discrete maths\"\n",
        "    self.file_size_in_mb = 41\n",
        "\n",
        "  def display(self):\n",
        "    print(\"creater name of pdf is: \", self.creater)\n",
        "    print(\"pdf name is: \", self.description)\n",
        "    print(\"file size of pdf in MB is: \", self.file_size_in_mb)  \n",
        "\n",
        "\n",
        "class picture(pdf):\n",
        "\n",
        "  def __init__(self, img_dimension):\n",
        "    pdf.__init__(self)\n",
        "    self.img_dimension = img_dimension\n",
        "\n",
        "  def display_pic(self):\n",
        "    print(\"creater name of pic is: \", self.creater)\n",
        "    print(\"pic name is: \", self.description)\n",
        "    print(\"file size of pic in MB is: \", self.file_size_in_mb)\n",
        "    print(\"img dimensions are: \", self.img_dimension)\n",
        "\n",
        "\n",
        "file = picture(\"80X40\")\n",
        "file.display()\n",
        "print(\"\\n\\n\")  \n",
        "file.display_pic()        \n"
      ],
      "execution_count": 34,
      "outputs": [
        {
          "output_type": "stream",
          "name": "stdout",
          "text": [
            "creater name of pdf is:  sudeepto\n",
            "pdf name is:  discrete maths\n",
            "file size of pdf in MB is:  41\n",
            "\n",
            "\n",
            "\n",
            "creater name of pic is:  sudeepto\n",
            "pic name is:  discrete maths\n",
            "file size of pic in MB is:  41\n",
            "img dimensions are:  80X40\n"
          ]
        }
      ]
    },
    {
      "cell_type": "code",
      "metadata": {
        "colab": {
          "base_uri": "https://localhost:8080/"
        },
        "id": "P6OcpCG9JYPh",
        "outputId": "21a76835-4103-4c26-ca97-453e363f9fc9"
      },
      "source": [
        "class Vehicle:\n",
        "    def __init__(self, name, mileage, capacity):\n",
        "        self.name = name\n",
        "        self.mileage = mileage\n",
        "        self.capacity = capacity\n",
        "\n",
        "    def fare(self):\n",
        "        return self.capacity * 100\n",
        "\n",
        "class Bus(Vehicle):\n",
        "    \n",
        "    def fare(self):\n",
        "        tota_amount = self.capacity * 100 \n",
        "        final_amount = tota_amount + (0.1 *tota_amount)\n",
        "        return final_amount\n",
        "\n",
        "school_bus = Bus(\"school bus\", 12, 50)\n",
        "print(\"Total Bus fare is:\", school_bus.fare())"
      ],
      "execution_count": 39,
      "outputs": [
        {
          "output_type": "stream",
          "name": "stdout",
          "text": [
            "Total Bus fare is: 5500.0\n"
          ]
        }
      ]
    }
  ]
}